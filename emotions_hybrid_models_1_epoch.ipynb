{
  "nbformat": 4,
  "nbformat_minor": 0,
  "metadata": {
    "colab": {
      "provenance": []
    },
    "kernelspec": {
      "name": "python3",
      "display_name": "Python 3"
    },
    "language_info": {
      "name": "python"
    }
  },
  "cells": [
    {
      "cell_type": "code",
      "execution_count": 5,
      "metadata": {
        "id": "ajLdmKuSm_it"
      },
      "outputs": [],
      "source": [
        "import pandas as pd\n",
        "import matplotlib.pyplot as plt\n",
        "import seaborn as sns\n",
        "from sklearn.model_selection import train_test_split\n",
        "from sklearn.preprocessing import LabelEncoder\n",
        "from keras.preprocessing.text import Tokenizer\n",
        "from keras.preprocessing.sequence import pad_sequences\n",
        "from keras.models import Sequential\n",
        "from keras.layers import Embedding, Conv1D, MaxPooling1D, Bidirectional, LSTM, GRU, Dense, Dropout\n",
        "from keras.utils import to_categorical\n",
        "from sklearn.metrics import accuracy_score, classification_report\n",
        "import numpy as np"
      ]
    },
    {
      "cell_type": "code",
      "source": [
        "def load_data(filename):\n",
        "    \"\"\"Load dataset from CSV file.\"\"\"\n",
        "    column_names = ['tweet', 'emotion']\n",
        "    return pd.read_csv(filename,\n",
        "                    names=column_names,\n",
        "                    header=None)\n",
        "\n",
        "def preprocess_data(data):\n",
        "    \"\"\"Preprocess the dataset by splitting into features and labels.\"\"\"\n",
        "    X = data['tweet']\n",
        "    y = data['emotion']\n",
        "    return X, y\n",
        "\n",
        "def encode_labels(y):\n",
        "    \"\"\"Encode categorical labels into numerical values.\"\"\"\n",
        "    encoder = LabelEncoder()\n",
        "    return encoder.fit_transform(y)\n",
        "\n",
        "def tokenize_sequences(X_train, X_test, max_words, max_sequence_length):\n",
        "    \"\"\"Tokenize text data and pad sequences to a fixed length.\"\"\"\n",
        "    tokenizer = Tokenizer(num_words=max_words)\n",
        "    tokenizer.fit_on_texts(X_train)\n",
        "    X_train_seq = tokenizer.texts_to_sequences(X_train)\n",
        "    X_test_seq = tokenizer.texts_to_sequences(X_test)\n",
        "    X_train_pad = pad_sequences(X_train_seq, maxlen=max_sequence_length)\n",
        "    X_test_pad = pad_sequences(X_test_seq, maxlen=max_sequence_length)\n",
        "    return X_train_pad, X_test_pad\n",
        "\n",
        "def build_cnn_bilstm_model(embedding_dim, max_sequence_length, max_words, num_classes):\n",
        "    \"\"\"Build CNN-BiLSTM model.\"\"\"\n",
        "    model = Sequential()\n",
        "    model.add(Embedding(max_words, embedding_dim, input_length=max_sequence_length))\n",
        "    model.add(Conv1D(128, 5, activation='relu'))\n",
        "    model.add(MaxPooling1D(5))\n",
        "    model.add(Bidirectional(LSTM(128)))\n",
        "    model.add(Dense(num_classes, activation='softmax'))\n",
        "    return model\n",
        "\n",
        "def build_cnn_bigru_model(embedding_dim, max_sequence_length, max_words, num_classes):\n",
        "    \"\"\"Build CNN-BiGRU model.\"\"\"\n",
        "    model = Sequential()\n",
        "    model.add(Embedding(max_words, embedding_dim, input_length=max_sequence_length))\n",
        "    model.add(Conv1D(128, 5, activation='relu'))\n",
        "    model.add(MaxPooling1D(5))\n",
        "    model.add(Bidirectional(GRU(128)))\n",
        "    model.add(Dense(num_classes, activation='softmax'))\n",
        "    return model\n",
        "\n",
        "def train_and_evaluate_model(model, X_train, y_train, X_test, y_test, batch_size, epochs):\n",
        "    \"\"\"Train and evaluate the model.\"\"\"\n",
        "    model.compile(optimizer='adam', loss='categorical_crossentropy', metrics=['accuracy'])\n",
        "    model.fit(X_train, y_train, batch_size=batch_size, epochs=epochs, validation_split=0.1, verbose=1)\n",
        "    predictions_prob = model.predict(X_test)\n",
        "    predictions = np.argmax(predictions_prob, axis=1)\n",
        "    accuracy = accuracy_score(y_test, predictions)\n",
        "    report = classification_report(y_test, predictions)\n",
        "    return accuracy, report\n",
        "\n",
        "\n",
        "def plot_comparison(accuracies, algorithms):\n",
        "    \"\"\"Plot a comparison of accuracies for different algorithms.\"\"\"\n",
        "    plt.figure(figsize=(10, 6))\n",
        "    sns.barplot(x=algorithms, y=accuracies, palette=\"viridis\")\n",
        "    plt.title('Accuracy Comparison of Emotion Detection Algorithms')\n",
        "    plt.xlabel('Algorithm')\n",
        "    plt.ylabel('Accuracy')\n",
        "    plt.ylim(0, 1)\n",
        "    plt.show()\n",
        "\n",
        "# Load dataset\n",
        "filename = '/content/drive/MyDrive/large_emotion_data/EmotionDataset06.csv'\n",
        "data = load_data(filename)\n",
        "\n",
        "# Preprocess data\n",
        "X, y = preprocess_data(data)\n",
        "y = encode_labels(y)\n",
        "\n",
        "# Split dataset into training and testing sets\n",
        "X_train, X_test, y_train, y_test = train_test_split(X, y, test_size=0.2, random_state=42)\n",
        "\n",
        "# Tokenize and pad sequences\n",
        "max_words = 10000\n",
        "max_sequence_length = 100\n",
        "X_train_pad, X_test_pad = tokenize_sequences(X_train, X_test, max_words, max_sequence_length)\n",
        "\n",
        "# Convert labels to one-hot encoding\n",
        "num_classes = len(set(y))\n",
        "y_train_one_hot = to_categorical(y_train, num_classes)\n",
        "y_test_one_hot = to_categorical(y_test, num_classes)\n",
        "\n",
        "# Build and train CNN-BiLSTM model\n",
        "cnn_bilstm_model = build_cnn_bilstm_model(100, max_sequence_length, max_words, num_classes)\n",
        "cnn_bilstm_accuracy, cnn_bilstm_report = train_and_evaluate_model(cnn_bilstm_model, X_train_pad, y_train_one_hot, X_test_pad, y_test, 32, 1)\n",
        "print(\"CNN-BiLSTM Accuracy:\", cnn_bilstm_accuracy)\n",
        "print(\"CNN-BiLSTM Classification Report:\")\n",
        "print(cnn_bilstm_report)\n",
        "\n",
        "# Build and train CNN-BiGRU model\n",
        "cnn_bigru_model = build_cnn_bigru_model(100, max_sequence_length, max_words, num_classes)\n",
        "cnn_bigru_accuracy, cnn_bigru_report = train_and_evaluate_model(cnn_bigru_model, X_train_pad, y_train_one_hot, X_test_pad, y_test, 32, 1)\n",
        "print(\"\\nCNN-BiGRU Accuracy:\", cnn_bigru_accuracy)\n",
        "print(\"CNN-BiGRU Classification Report:\")\n",
        "print(cnn_bigru_report)\n",
        "\n",
        "# Plot comparison of accuracies\n",
        "accuracies = {'CNN-BiLSTM': cnn_bilstm_accuracy, 'CNN-BiGRU': cnn_bigru_accuracy}\n",
        "plot_comparison(accuracies.values(), accuracies.keys())\n"
      ],
      "metadata": {
        "colab": {
          "base_uri": "https://localhost:8080/",
          "height": 1000
        },
        "id": "bpGetqi0nE_P",
        "outputId": "4462f94c-db8e-4970-82d3-b232936f47ae"
      },
      "execution_count": 6,
      "outputs": [
        {
          "output_type": "stream",
          "name": "stdout",
          "text": [
            "5103/5103 [==============================] - 561s 108ms/step - loss: 0.4854 - accuracy: 0.8276 - val_loss: 0.3125 - val_accuracy: 0.8943\n",
            "1418/1418 [==============================] - 38s 26ms/step\n",
            "CNN-BiLSTM Accuracy: 0.8989086098555837\n",
            "CNN-BiLSTM Classification Report:\n",
            "              precision    recall  f1-score   support\n",
            "\n",
            "           0       0.90      0.93      0.91     14089\n",
            "           1       0.88      0.91      0.89      4664\n",
            "           2       0.90      0.89      0.89      8938\n",
            "           3       0.92      0.87      0.89      7741\n",
            "           4       0.91      0.84      0.87      4844\n",
            "           5       0.89      0.92      0.90      5079\n",
            "\n",
            "    accuracy                           0.90     45355\n",
            "   macro avg       0.90      0.89      0.89     45355\n",
            "weighted avg       0.90      0.90      0.90     45355\n",
            "\n",
            "5103/5103 [==============================] - 465s 90ms/step - loss: 0.4827 - accuracy: 0.8294 - val_loss: 0.3236 - val_accuracy: 0.8935\n",
            "1418/1418 [==============================] - 28s 19ms/step\n",
            "\n",
            "CNN-BiGRU Accuracy: 0.894807628706868\n",
            "CNN-BiGRU Classification Report:\n",
            "              precision    recall  f1-score   support\n",
            "\n",
            "           0       0.91      0.91      0.91     14089\n",
            "           1       0.92      0.86      0.89      4664\n",
            "           2       0.89      0.90      0.89      8938\n",
            "           3       0.86      0.90      0.88      7741\n",
            "           4       0.90      0.84      0.87      4844\n",
            "           5       0.90      0.91      0.90      5079\n",
            "\n",
            "    accuracy                           0.89     45355\n",
            "   macro avg       0.89      0.89      0.89     45355\n",
            "weighted avg       0.90      0.89      0.89     45355\n",
            "\n"
          ]
        },
        {
          "output_type": "stream",
          "name": "stderr",
          "text": [
            "<ipython-input-6-f66459b246c8>:63: FutureWarning: \n",
            "\n",
            "Passing `palette` without assigning `hue` is deprecated and will be removed in v0.14.0. Assign the `x` variable to `hue` and set `legend=False` for the same effect.\n",
            "\n",
            "  sns.barplot(x=algorithms, y=accuracies, palette=\"viridis\")\n"
          ]
        },
        {
          "output_type": "display_data",
          "data": {
            "text/plain": [
              "<Figure size 1000x600 with 1 Axes>"
            ],
            "image/png": "[encoded data removed]"
          },
          "metadata": {}
        }
      ]
    },
    {
      "cell_type": "code",
      "source": [],
      "metadata": {
        "id": "UgByKoLPnct-"
      },
      "execution_count": null,
      "outputs": []
    }
  ]
}