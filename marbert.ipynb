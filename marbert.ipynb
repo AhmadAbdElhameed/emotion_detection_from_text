{
 "cells": [
  {
   "cell_type": "code",
   "execution_count": 2,
   "id": "504070c5-23a7-4b6b-b781-ac30b123aab3",
   "metadata": {},
   "outputs": [
    {
     "name": "stderr",
     "output_type": "stream",
     "text": [
      "Some weights of BertForSequenceClassification were not initialized from the model checkpoint at UBC-NLP/MARBERT and are newly initialized: ['classifier.bias', 'classifier.weight']\n",
      "You should probably TRAIN this model on a down-stream task to be able to use it for predictions and inference.\n",
      "Asking to truncate to max_length but no maximum length is provided and the model has no predefined maximum length. Default to no truncation.\n"
     ]
    }
   ],
   "source": [
    "import pandas as pd\n",
    "import torch\n",
    "from sklearn.model_selection import train_test_split\n",
    "from transformers import AutoModelForSequenceClassification, AutoTokenizer, AdamW, get_scheduler\n",
    "from torch.utils.data import DataLoader, TensorDataset, RandomSampler, SequentialSampler\n",
    "from tqdm import tqdm\n",
    "from sklearn.metrics import accuracy_score, f1_score\n",
    "import matplotlib.pyplot as plt\n",
    "import numpy as np\n",
    "\n",
    "# Load your dataset\n",
    "# Load your dataset\n",
    "column_names = ['tweet', 'emotion']\n",
    "df = pd.read_csv('EmotionDataset06.csv',\n",
    "                    names=column_names,\n",
    "                    header=None)\n",
    "\n",
    "# Convert emotions to numerical labels if they are not already\n",
    "emotion_to_label = {'anger': 0, 'joy': 1, 'surprise': 2, 'disgust': 3, 'fear': 4, 'sad': 5}\n",
    "df['emotion'] = df['emotion'].map(emotion_to_label)\n",
    "\n",
    "# Split the dataset\n",
    "train_df, test_df = train_test_split(df, test_size=0.2, random_state=42)\n",
    "train_df, val_df = train_test_split(train_df, test_size=0.25, random_state=42)  # 0.25 x 0.8 = 0.2\n",
    "\n",
    "# Load the model and tokenizer\n",
    "# model_name = \"aubmindlab/bert-base-arabert\"\n",
    "model_name = 'UBC-NLP/MARBERT'\n",
    "tokenizer = AutoTokenizer.from_pretrained(model_name)\n",
    "model = AutoModelForSequenceClassification.from_pretrained(model_name, num_labels=6)\n",
    "\n",
    "# Define training parameters\n",
    "batch_size = 16\n",
    "learning_rate = 2e-5\n",
    "num_epochs = 3\n",
    "\n",
    "# Tokenize and prepare datasets\n",
    "train_encodings = tokenizer(train_df['tweet'].tolist(), truncation=True, padding=True, return_tensors=\"pt\")\n",
    "val_encodings = tokenizer(val_df['tweet'].tolist(), truncation=True, padding=True, return_tensors=\"pt\")\n",
    "test_encodings = tokenizer(test_df['tweet'].tolist(), truncation=True, padding=True, return_tensors=\"pt\")\n",
    "\n",
    "train_labels = torch.tensor(train_df['emotion'].tolist())\n",
    "val_labels = torch.tensor(val_df['emotion'].tolist())\n",
    "test_labels = torch.tensor(test_df['emotion'].tolist())\n",
    "\n",
    "train_dataset = TensorDataset(train_encodings.input_ids, train_encodings.attention_mask, train_labels)\n",
    "val_dataset = TensorDataset(val_encodings.input_ids, val_encodings.attention_mask, val_labels)\n",
    "test_dataset = TensorDataset(test_encodings.input_ids, test_encodings.attention_mask, test_labels)\n",
    "\n",
    "# Create data loaders\n",
    "train_sampler = RandomSampler(train_dataset)\n",
    "train_dataloader = DataLoader(train_dataset, sampler=train_sampler, batch_size=batch_size)\n",
    "\n",
    "val_sampler = SequentialSampler(val_dataset)\n",
    "val_dataloader = DataLoader(val_dataset, sampler=val_sampler, batch_size=batch_size)\n",
    "\n",
    "# Set up optimizer and learning rate scheduler\n",
    "optimizer = torch.optim.AdamW(model.parameters(), lr=learning_rate)\n",
    "scheduler = get_scheduler(\"linear\", optimizer=optimizer, num_warmup_steps=0, num_training_steps=len(train_dataloader) * num_epochs)\n",
    "\n",
    "# Training loop\n",
    "device = torch.device(\"cuda\" if torch.cuda.is_available() else \"cpu\")\n",
    "model.to(device)\n",
    "\n",
    "train_losses = []\n",
    "val_losses = []\n",
    "val_accuracies = []\n"
   ]
  },
  {
   "cell_type": "code",
   "execution_count": 3,
   "id": "3a25c5b4-425c-4623-9fee-7396b6ee8b7d",
   "metadata": {},
   "outputs": [
    {
     "name": "stderr",
     "output_type": "stream",
     "text": [
      "Epoch 1: 100%|██████████| 8504/8504 [33:44<00:00,  4.20it/s] \n",
      "Validation - Epoch 1: 100%|██████████| 2835/2835 [02:54<00:00, 16.22it/s]\n",
      "Epoch 2: 100%|██████████| 8504/8504 [31:08<00:00,  4.55it/s]\n",
      "Validation - Epoch 2: 100%|██████████| 2835/2835 [02:55<00:00, 16.14it/s]\n",
      "Epoch 3: 100%|██████████| 8504/8504 [31:10<00:00,  4.55it/s]\n",
      "Validation - Epoch 3: 100%|██████████| 2835/2835 [02:56<00:00, 16.09it/s]\n"
     ]
    }
   ],
   "source": [
    "for epoch in range(num_epochs):\n",
    "    model.train()\n",
    "    total_loss = 0.0\n",
    "    for batch in tqdm(train_dataloader, desc=f\"Epoch {epoch + 1}\"):\n",
    "        input_ids, attention_mask, labels = batch\n",
    "        input_ids, attention_mask, labels = input_ids.to(device), attention_mask.to(device), labels.to(device)\n",
    "\n",
    "        optimizer.zero_grad()\n",
    "        outputs = model(input_ids, attention_mask=attention_mask, labels=labels)\n",
    "        loss = outputs.loss\n",
    "        total_loss += loss.item()\n",
    "\n",
    "        loss.backward()\n",
    "        optimizer.step()\n",
    "        scheduler.step()\n",
    "\n",
    "    avg_train_loss = total_loss / len(train_dataloader)\n",
    "    train_losses.append(avg_train_loss)\n",
    "\n",
    "    # Validation\n",
    "    model.eval()\n",
    "    val_loss = 0.0\n",
    "    all_val_preds = []\n",
    "    with torch.no_grad():\n",
    "        for batch in tqdm(val_dataloader, desc=f\"Validation - Epoch {epoch + 1}\"):\n",
    "            input_ids, attention_mask, labels = batch\n",
    "            input_ids, attention_mask, labels = input_ids.to(device), attention_mask.to(device), labels.to(device)\n",
    "\n",
    "            outputs = model(input_ids, attention_mask=attention_mask, labels=labels)\n",
    "            loss = outputs.loss\n",
    "            val_loss += loss.item()\n",
    "\n",
    "            logits = outputs.logits\n",
    "            preds = torch.argmax(logits, dim=1).cpu().numpy()\n",
    "            all_val_preds.extend(preds)\n",
    "\n",
    "    avg_val_loss = val_loss / len(val_dataloader)\n",
    "    val_losses.append(avg_val_loss)\n",
    "\n",
    "    val_accuracy = accuracy_score(val_labels, all_val_preds)\n",
    "    val_accuracies.append(val_accuracy)"
   ]
  },
  {
   "cell_type": "code",
   "execution_count": 4,
   "id": "0aa79ffd-ac6a-4877-9202-89a58506f3b1",
   "metadata": {},
   "outputs": [],
   "source": [
    "# Create data loader for the test set\n",
    "test_sampler = SequentialSampler(test_dataset)\n",
    "test_dataloader = DataLoader(test_dataset, sampler=test_sampler, batch_size=batch_size)"
   ]
  },
  {
   "cell_type": "code",
   "execution_count": 5,
   "id": "171c11e9-834f-4e19-8ff6-9ec5b5d2a30d",
   "metadata": {},
   "outputs": [
    {
     "name": "stderr",
     "output_type": "stream",
     "text": [
      "Testing: 100%|██████████| 2835/2835 [03:00<00:00, 15.69it/s]\n"
     ]
    },
    {
     "name": "stdout",
     "output_type": "stream",
     "text": [
      "Test Accuracy: 0.9840811376915445\n",
      "Test F1 Score: 0.9840823208693891\n"
     ]
    },
    {
     "data": {
      "image/png": "[encoded data removed]",
      "text/plain": [
       "<Figure size 1200x400 with 2 Axes>"
      ]
     },
     "metadata": {},
     "output_type": "display_data"
    }
   ],
   "source": [
    "# Evaluation on the test set\n",
    "model.eval()\n",
    "test_loss = 0.0\n",
    "all_test_preds = []\n",
    "with torch.no_grad():\n",
    "    for batch in tqdm(test_dataloader, desc=\"Testing\"):\n",
    "        input_ids, attention_mask, labels = batch\n",
    "        input_ids, attention_mask, labels = input_ids.to(device), attention_mask.to(device), labels.to(device)\n",
    "\n",
    "        outputs = model(input_ids, attention_mask=attention_mask, labels=labels)\n",
    "        loss = outputs.loss\n",
    "        test_loss += loss.item()\n",
    "\n",
    "        logits = outputs.logits\n",
    "        preds = torch.argmax(logits, dim=1).cpu().numpy()\n",
    "        all_test_preds.extend(preds)\n",
    "\n",
    "test_accuracy = accuracy_score(test_labels, all_test_preds)\n",
    "test_f1_score = f1_score(test_labels, all_test_preds, average='weighted')\n",
    "\n",
    "print(f\"Test Accuracy: {test_accuracy}\")\n",
    "print(f\"Test F1 Score: {test_f1_score}\")\n",
    "\n",
    "# Plotting\n",
    "plt.figure(figsize=(12, 4))\n",
    "plt.subplot(1, 2, 1)\n",
    "plt.plot(train_losses, label=\"Train Loss\")\n",
    "plt.plot(val_losses, label=\"Validation Loss\")\n",
    "plt.xlabel(\"Epoch\")\n",
    "plt.ylabel(\"Loss\")\n",
    "plt.legend()\n",
    "plt.grid()\n",
    "\n",
    "plt.subplot(1, 2, 2)\n",
    "plt.plot(val_accuracies, label=\"Validation Accuracy\")\n",
    "plt.xlabel(\"Epoch\")\n",
    "plt.ylabel(\"Accuracy\")\n",
    "plt.legend()\n",
    "plt.grid()\n",
    "\n",
    "plt.show()"
   ]
  },
  {
   "cell_type": "code",
   "execution_count": 7,
   "id": "e6405163-ed02-4e7b-b1d7-8d5316dd41fa",
   "metadata": {},
   "outputs": [
    {
     "name": "stderr",
     "output_type": "stream",
     "text": [
      "Testing: 100%|██████████| 2835/2835 [03:00<00:00, 15.72it/s]\n",
      "/home/studio-lab-user/.conda/envs/default/lib/python3.9/site-packages/numpy/lib/function_base.py:518: RuntimeWarning: Mean of empty slice.\n",
      "  avg = a.mean(axis, **keepdims_kw)\n",
      "/home/studio-lab-user/.conda/envs/default/lib/python3.9/site-packages/numpy/core/_methods.py:192: RuntimeWarning: invalid value encountered in scalar divide\n",
      "  ret = ret.dtype.type(ret / rcount)\n",
      "/home/studio-lab-user/.conda/envs/default/lib/python3.9/site-packages/numpy/lib/function_base.py:518: RuntimeWarning: Mean of empty slice.\n",
      "  avg = a.mean(axis, **keepdims_kw)\n",
      "/home/studio-lab-user/.conda/envs/default/lib/python3.9/site-packages/numpy/core/_methods.py:192: RuntimeWarning: invalid value encountered in scalar divide\n",
      "  ret = ret.dtype.type(ret / rcount)\n",
      "/home/studio-lab-user/.conda/envs/default/lib/python3.9/site-packages/numpy/lib/function_base.py:518: RuntimeWarning: Mean of empty slice.\n",
      "  avg = a.mean(axis, **keepdims_kw)\n",
      "/home/studio-lab-user/.conda/envs/default/lib/python3.9/site-packages/numpy/core/_methods.py:192: RuntimeWarning: invalid value encountered in scalar divide\n",
      "  ret = ret.dtype.type(ret / rcount)\n",
      "/home/studio-lab-user/.conda/envs/default/lib/python3.9/site-packages/numpy/lib/function_base.py:518: RuntimeWarning: Mean of empty slice.\n",
      "  avg = a.mean(axis, **keepdims_kw)\n",
      "/home/studio-lab-user/.conda/envs/default/lib/python3.9/site-packages/numpy/core/_methods.py:192: RuntimeWarning: invalid value encountered in scalar divide\n",
      "  ret = ret.dtype.type(ret / rcount)\n",
      "/home/studio-lab-user/.conda/envs/default/lib/python3.9/site-packages/numpy/lib/function_base.py:518: RuntimeWarning: Mean of empty slice.\n",
      "  avg = a.mean(axis, **keepdims_kw)\n",
      "/home/studio-lab-user/.conda/envs/default/lib/python3.9/site-packages/numpy/core/_methods.py:192: RuntimeWarning: invalid value encountered in scalar divide\n",
      "  ret = ret.dtype.type(ret / rcount)\n",
      "/home/studio-lab-user/.conda/envs/default/lib/python3.9/site-packages/numpy/lib/function_base.py:518: RuntimeWarning: Mean of empty slice.\n",
      "  avg = a.mean(axis, **keepdims_kw)\n",
      "/home/studio-lab-user/.conda/envs/default/lib/python3.9/site-packages/numpy/core/_methods.py:192: RuntimeWarning: invalid value encountered in scalar divide\n",
      "  ret = ret.dtype.type(ret / rcount)\n"
     ]
    },
    {
     "name": "stdout",
     "output_type": "stream",
     "text": [
      "Overall Test Accuracy: 0.9840811376915445\n",
      "Overall Test F1 Score: 0.9840823208693891\n",
      "Test Accuracy for anger: nan\n",
      "Test Accuracy for joy: nan\n",
      "Test Accuracy for surprise: nan\n",
      "Test Accuracy for disgust: nan\n",
      "Test Accuracy for fear: nan\n",
      "Test Accuracy for sad: nan\n",
      "\n",
      "Classification Report:\n",
      "               precision    recall  f1-score   support\n",
      "\n",
      "       anger       0.99      0.98      0.99     14089\n",
      "         joy       0.99      0.99      0.99      7741\n",
      "    surprise       0.98      0.98      0.98      5079\n",
      "     disgust       0.98      0.98      0.98      4664\n",
      "        fear       0.99      0.98      0.98      8938\n",
      "         sad       0.98      0.99      0.98      4844\n",
      "\n",
      "    accuracy                           0.98     45355\n",
      "   macro avg       0.98      0.98      0.98     45355\n",
      "weighted avg       0.98      0.98      0.98     45355\n",
      "\n"
     ]
    }
   ],
   "source": [
    "from sklearn.metrics import accuracy_score, f1_score, classification_report\n",
    "\n",
    "# ...\n",
    "\n",
    "# Evaluation on the test set\n",
    "model.eval()\n",
    "test_loss = 0.0\n",
    "all_test_preds = []\n",
    "with torch.no_grad():\n",
    "    for batch in tqdm(test_dataloader, desc=\"Testing\"):\n",
    "        input_ids, attention_mask, labels = batch\n",
    "        input_ids, attention_mask, labels = input_ids.to(device), attention_mask.to(device), labels.to(device)\n",
    "\n",
    "        outputs = model(input_ids, attention_mask=attention_mask, labels=labels)\n",
    "        loss = outputs.loss\n",
    "        test_loss += loss.item()\n",
    "\n",
    "        logits = outputs.logits\n",
    "        preds = torch.argmax(logits, dim=1).cpu().numpy()\n",
    "        all_test_preds.extend(preds)\n",
    "\n",
    "# Calculate overall accuracy and F1 score\n",
    "test_accuracy = accuracy_score(test_labels, all_test_preds)\n",
    "test_f1_score = f1_score(test_labels, all_test_preds, average='weighted')\n",
    "\n",
    "print(f\"Overall Test Accuracy: {test_accuracy}\")\n",
    "print(f\"Overall Test F1 Score: {test_f1_score}\")\n",
    "\n",
    "# Calculate accuracy and F1 score for each emotion class\n",
    "emotion_labels = ['anger', 'joy', 'surprise', 'disgust', 'fear', 'sad']\n",
    "class_accuracies = {}\n",
    "\n",
    "for emotion_label in emotion_labels:\n",
    "    class_indices = test_df[test_df['emotion'] == emotion_label].index\n",
    "    class_true_labels = test_labels[class_indices]\n",
    "    class_preds = np.array(all_test_preds)[class_indices]\n",
    "    class_accuracy = accuracy_score(class_true_labels, class_preds)\n",
    "    class_f1_score = f1_score(class_true_labels, class_preds, average='weighted')\n",
    "    class_accuracies[emotion_label] = class_accuracy\n",
    "\n",
    "# Print accuracy and F1 score for each emotion class\n",
    "for emotion_label, accuracy in class_accuracies.items():\n",
    "    print(f\"Test Accuracy for {emotion_label}: {accuracy}\")\n",
    "\n",
    "# Generate and print classification report\n",
    "classification_rep = classification_report(test_labels, all_test_preds, target_names=emotion_labels)\n",
    "print(\"\\nClassification Report:\\n\", classification_rep)\n"
   ]
  },
  {
   "cell_type": "code",
   "execution_count": 8,
   "id": "acc7fc2e-b933-4cb3-9c6d-b97e70de1fc3",
   "metadata": {},
   "outputs": [
    {
     "data": {
      "text/plain": [
       "('./marbert/marbert_emotion_tokenizer/tokenizer_config.json',\n",
       " './marbert/marbert_emotion_tokenizer/special_tokens_map.json',\n",
       " './marbert/marbert_emotion_tokenizer/vocab.txt',\n",
       " './marbert/marbert_emotion_tokenizer/added_tokens.json',\n",
       " './marbert/marbert_emotion_tokenizer/tokenizer.json')"
      ]
     },
     "execution_count": 8,
     "metadata": {},
     "output_type": "execute_result"
    }
   ],
   "source": [
    "# Save the model\n",
    "model_save_path = \"./marbert/marbert_emotion_classifier\"\n",
    "model.save_pretrained(model_save_path)\n",
    "\n",
    "# Save the tokenizer\n",
    "tokenizer_save_path = \"./marbert/marbert_emotion_tokenizer\"\n",
    "tokenizer.save_pretrained(tokenizer_save_path)"
   ]
  },
  {
   "cell_type": "code",
   "execution_count": 9,
   "id": "e1836a73-f562-4f9a-b82c-89d438133bca",
   "metadata": {},
   "outputs": [],
   "source": [
    "model = AutoModelForSequenceClassification.from_pretrained(\"./marbert/marbert_emotion_classifier\")\n",
    "tokenizer = AutoTokenizer.from_pretrained(\"./marbert/marbert_emotion_tokenizer\")"
   ]
  },
  {
   "cell_type": "code",
   "execution_count": 18,
   "id": "a29b3472-27b5-444f-a47b-2c8b5163e06b",
   "metadata": {},
   "outputs": [],
   "source": [
    "# def predict_emotion(tweet, model, tokenizer, label_dict):\n",
    "#     model.eval()  # Set the model to evaluation mode\n",
    "#     with torch.no_grad():  # No need to track gradients\n",
    "#         # Explicitly specify max_length for truncation\n",
    "#         inputs = tokenizer(tweet, return_tensors=\"pt\", padding=True, truncation=True, max_length=512).to(device)\n",
    "#         outputs = model(**inputs)\n",
    "#         predictions = torch.argmax(outputs.logits, dim=1).cpu().numpy()  # Move logits to CPU and convert to numpy\n",
    "#         predicted_label = [key for key, value in label_dict.items() if value == predictions[0]][0]\n",
    "#     return predicted_label\n",
    "\n",
    "\n",
    "# def predict_emotion(tweet, model, tokenizer, label_dict):\n",
    "#     model.eval()  # Set the model to evaluation mode\n",
    "#     device = torch.device(\"cuda\" if torch.cuda.is_available() else \"cpu\")\n",
    "#     model.to(device)  # Ensure the model is on the right device\n",
    "#     with torch.no_grad():  # No need to track gradients\n",
    "#         # Tokenize the tweet and ensure the tensors are moved to the same device as the model\n",
    "#         inputs = tokenizer(tweet, return_tensors=\"pt\", padding=True, truncation=True, max_length=512)\n",
    "#         inputs = {key: value.to(device) for key, value in inputs.items()}\n",
    "#         outputs = model(**inputs)\n",
    "#         predictions = torch.argmax(outputs.logits, dim=1).cpu().numpy()  # Move logits to CPU and convert to numpy\n",
    "#         predicted_label = [key for key, value in label_dict.items() if value == predictions[0]][0]\n",
    "#     return predicted_label\n",
    "\n",
    "def predict_emotion(tweet, model, tokenizer, label_dict):\n",
    "    model.eval()  # Set the model to evaluation mode\n",
    "    device = torch.device(\"cuda\" if torch.cuda.is_available() else \"cpu\")\n",
    "    model.to(device)  # Ensure the model is on the right device\n",
    "    with torch.no_grad():  # No need to track gradients\n",
    "        # Tokenize the tweet and ensure the tensors are moved to the same device as the model\n",
    "        inputs = tokenizer(tweet, return_tensors=\"pt\", padding=True, truncation=True, max_length=512)\n",
    "        inputs = {key: value.to(device) for key, value in inputs.items()}\n",
    "        outputs = model(**inputs)\n",
    "        prediction_idx = torch.argmax(outputs.logits, dim=1).item()  # Get the predicted index\n",
    "        predicted_label = label_dict.get(prediction_idx, \"Unknown\")  # Get the label from the dictionary\n",
    "    return predicted_label\n"
   ]
  },
  {
   "cell_type": "code",
   "execution_count": 19,
   "id": "986b2e60-0451-4e57-abc8-cbb64bea85ba",
   "metadata": {},
   "outputs": [
    {
     "name": "stdout",
     "output_type": "stream",
     "text": [
      "Predicted emotion: disgust\n"
     ]
    }
   ],
   "source": [
    "# Reverse the emotion_to_label dictionary\n",
    "label_to_emotion = {v: k for k, v in emotion_to_label.items()}\n",
    "\n",
    "# Predict the emotion of a sample tweet\n",
    "sample_tweet = \"كورونا خلصت علي الناس\"\n",
    "predicted_emotion = predict_emotion(sample_tweet, model, tokenizer, label_to_emotion)\n",
    "print(f\"Predicted emotion: {predicted_emotion}\")\n",
    "\n"
   ]
  },
  {
   "cell_type": "code",
   "execution_count": 20,
   "id": "f37f2060-6bea-4144-ad8d-753ee4783754",
   "metadata": {},
   "outputs": [
    {
     "name": "stdout",
     "output_type": "stream",
     "text": [
      "Predicted emotion: disgust\n"
     ]
    }
   ],
   "source": [
    "# Predict the emotion of a sample tweet\n",
    "sample_tweet = \"ناس كتير بتموت و مفيش مكان في المستشفيات\"\n",
    "predicted_emotion = predict_emotion(sample_tweet, model, tokenizer, label_to_emotion)\n",
    "print(f\"Predicted emotion: {predicted_emotion}\")"
   ]
  },
  {
   "cell_type": "code",
   "execution_count": 21,
   "id": "ae93a8a2-f91d-4d13-960e-15cf4d07aaef",
   "metadata": {},
   "outputs": [
    {
     "name": "stdout",
     "output_type": "stream",
     "text": [
      "Predicted emotion: anger\n"
     ]
    }
   ],
   "source": [
    "# Predict the emotion of a sample tweet\n",
    "sample_tweet = \"الحمد لله النتجه سلبي و شفيت من كورونا\"\n",
    "predicted_emotion = predict_emotion(sample_tweet, model, tokenizer, label_to_emotion)\n",
    "print(f\"Predicted emotion: {predicted_emotion}\")"
   ]
  },
  {
   "cell_type": "code",
   "execution_count": 22,
   "id": "df4f863d-2be5-4395-85e5-9e22df543d39",
   "metadata": {},
   "outputs": [
    {
     "name": "stdout",
     "output_type": "stream",
     "text": [
      "Predicted emotion: fear\n"
     ]
    }
   ],
   "source": [
    "\n",
    "# Predict the emotion of a sample tweet\n",
    "sample_tweet = \"اشتقت للحياة قبل كورونا بدون خوف وفقد لنا نعرفهم وتباعد نروح وين مانبي بدون قلق\"\n",
    "predicted_emotion = predict_emotion(sample_tweet, model, tokenizer, label_to_emotion)\n",
    "print(f\"Predicted emotion: {predicted_emotion}\")"
   ]
  },
  {
   "cell_type": "code",
   "execution_count": null,
   "id": "3150d545-45a6-4263-b2e0-e13f1f9f1f16",
   "metadata": {},
   "outputs": [],
   "source": []
  }
 ],
 "metadata": {
  "kernelspec": {
   "display_name": "default:Python",
   "language": "python",
   "name": "conda-env-default-py"
  },
  "language_info": {
   "codemirror_mode": {
    "name": "ipython",
    "version": 3
   },
   "file_extension": ".py",
   "mimetype": "text/x-python",
   "name": "python",
   "nbconvert_exporter": "python",
   "pygments_lexer": "ipython3",
   "version": "3.9.13"
  }
 },
 "nbformat": 4,
 "nbformat_minor": 5
}
